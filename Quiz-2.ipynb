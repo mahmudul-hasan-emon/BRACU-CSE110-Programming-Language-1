{
 "cells": [
  {
   "cell_type": "code",
   "execution_count": 1,
   "id": "2ba73369",
   "metadata": {},
   "outputs": [
    {
     "name": "stdout",
     "output_type": "stream",
     "text": [
      "bangladesh\n",
      "2\n",
      "7\n",
      " pincfg\n"
     ]
    }
   ],
   "source": [
    "value =input()\n",
    "index =int(input())\n",
    "index1 =int(input())\n",
    "string1 =\" \"\n",
    "if index1>len(value)-1:\n",
    "    string1+= \"invalid index\"\n",
    "else:\n",
    "    for count in range(0,len(value)):\n",
    "        if count>=index and count <= index1:\n",
    "            string1+=chr(ord(value[count])+2)\n",
    "print(string1)"
   ]
  }
 ],
 "metadata": {
  "kernelspec": {
   "display_name": "Python 3",
   "language": "python",
   "name": "python3"
  },
  "language_info": {
   "codemirror_mode": {
    "name": "ipython",
    "version": 3
   },
   "file_extension": ".py",
   "mimetype": "text/x-python",
   "name": "python",
   "nbconvert_exporter": "python",
   "pygments_lexer": "ipython3",
   "version": "3.8.8"
  }
 },
 "nbformat": 4,
 "nbformat_minor": 5
}
