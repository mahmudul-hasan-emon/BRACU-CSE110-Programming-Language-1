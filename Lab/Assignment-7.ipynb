{
 "cells": [
  {
   "cell_type": "markdown",
   "metadata": {
    "id": "oMYzsTcnHEll"
   },
   "source": [
    "# CSE110 Lab Assignment 7 on Sorting and Searching\n",
    "\n",
    "Write your name, student id and CSE110 section below:\n"
   ]
  },
  {
   "cell_type": "markdown",
   "metadata": {
    "id": "jT-t2zlnHEll"
   },
   "source": [
    "## Write the Python code for the following problems:\n",
    "**<font color='red'>[MUST MAINTAIN VARIABLE NAMING CONVENTIONS FOR ALL THE TASKS]</font>**\n",
    "\n",
    "### Task 1\n",
    "\n",
    "Suppose you have a list named my_list as given below. <br/>\n",
    "my_list = [10,1,20,3,6,2,5,11,15,2,12,14,17,18,29] <br/>\n",
    "Now use bubble sort to sort my_list into ascending order.\n",
    "\n",
    "**Output**<br/>\n",
    "[1, 2, 2, 3, 5, 6, 10, 11, 12, 14, 15, 17, 18, 20, 29]"
   ]
  },
  {
   "cell_type": "code",
   "execution_count": 3,
   "metadata": {
    "id": "7qXVakLgHElm"
   },
   "outputs": [
    {
     "name": "stdout",
     "output_type": "stream",
     "text": [
      "1 2 2 3 5 6 10 11 12 14 15 17 18 20 29 "
     ]
    }
   ],
   "source": [
    "#todo - Bubble sort starts arranging the elements from the top\n",
    "\n",
    "def BubbleSortQuestion(my_list):\n",
    "    digit = len(my_list)\n",
    "    for p in range(digit-1):\n",
    "        for q in range(0, digit-p-1):\n",
    "            if my_list[q] > my_list[q + 1] :\n",
    "                my_list[q], my_list[q + 1] = my_list[q + 1], my_list[q]\n",
    "my_list = [10,1,20,3,6,2,5,11,15,2,12,14,17,18,29]\n",
    "    \n",
    "BubbleSortQuestion(my_list)\n",
    "    \n",
    "for k in range(len(my_list)):\n",
    "    print (my_list[k],end=\" \"),\n",
    "\n"
   ]
  },
  {
   "cell_type": "markdown",
   "metadata": {
    "id": "w1QgeWd2HElp"
   },
   "source": [
    "### Task 2\n",
    "\n",
    "Suppose you have a list named my_list as given below. <br/>\n",
    "my_list = [10,1,20,3,6,2,5,11,15,2,12,14,17,18,29] <br/>\n",
    "Now use selection sort to sort my_list into ascending order.\n",
    "\n",
    "**Output**<br/>\n",
    "[1, 2, 2, 3, 5, 6, 10, 11, 12, 14, 15, 17, 18, 20, 29]\n",
    "\n"
   ]
  },
  {
   "cell_type": "code",
   "execution_count": 5,
   "metadata": {
    "id": "am0B_8ICHElq"
   },
   "outputs": [
    {
     "name": "stdout",
     "output_type": "stream",
     "text": [
      "1 2 2 3 5 6 10 11 12 14 15 17 18 20 29 "
     ]
    }
   ],
   "source": [
    "#todo Selection sort starts arranging the elements from the bottom\n",
    "\n",
    "def BubbleSortQuestion(my_list):\n",
    "    digit = len(my_list)\n",
    "    for p in range(digit-1):\n",
    "        for q in range(0, digit-p-1):\n",
    "            if my_list[q] > my_list[q + 1] :\n",
    "                my_list[q], my_list[q + 1] = my_list[q + 1], my_list[q]\n",
    "my_list = [10,1,20,3,6,2,5,11,15,2,12,14,17,18,29]\n",
    "    \n",
    "BubbleSortQuestion(my_list)\n",
    "    \n",
    "for p in range(len(my_list)):\n",
    "    print (my_list[p],end=\" \"),\n"
   ]
  },
  {
   "cell_type": "markdown",
   "metadata": {
    "id": "j4ffr2CAHElt"
   },
   "source": [
    "### Task  3\n",
    "\n",
    "Suppose you have a list named my_list as given below <br/>\n",
    "my_list=[10,1,20,3,6,2,5,11,15,2,12,14,17,18,29] <br/>\n",
    "Now use any of the two sorting techniques you have used above to sort the list in descending order.\n",
    "\n",
    "**Output**<br/>\n",
    "[29, 20, 18, 17, 15, 14, 12, 11, 10, 6, 5, 3, 2, 2, 1]\n"
   ]
  },
  {
   "cell_type": "code",
   "execution_count": 9,
   "metadata": {
    "id": "n2X3YR-_HElt"
   },
   "outputs": [
    {
     "name": "stdout",
     "output_type": "stream",
     "text": [
      "[29, 20, 18, 17, 15, 14, 12, 11, 10, 6, 5, 3, 2, 2, 1]\n"
     ]
    }
   ],
   "source": [
    "#todo\n",
    "\n",
    "def sort(my_list):\n",
    "    for q in range(1,len(my_list)):\n",
    "        digit = my_list[q]\n",
    "        p = q-1\n",
    "        while p>=0:\n",
    "            if digit > my_list[p]:\n",
    "                my_list[p+1] = my_list[p]\n",
    "                my_list[p] = digit\n",
    "                p -= 1\n",
    "            else:\n",
    "                break\n",
    "            \n",
    "my_list = [10,1,20,3,6,2,5,11,15,2,12,14,17,18,29]\n",
    "sort(my_list)\n",
    "print (my_list)"
   ]
  },
  {
   "cell_type": "markdown",
   "metadata": {
    "id": "9iYiiTWWHElw"
   },
   "source": [
    "### Task 4\n",
    "\n",
    "Suppose you have a sitting arrangement of the students who will give the final exam in a list. The list contains the last two digits of their student ID as given below.<br/>\n",
    "\n",
    "sitting_list = [10,30,20,70,11,15,22,16,58,100,12,56,70,80] <br/>\n",
    "\n",
    "Now you want to organize the sitting arrangement of the students in your own way. You decide to sort all the students in the even indices of the list in ascending order and all the students in the odd indices of the list in descending order.  <br/>\n",
    "\n",
    "So, write a python program that organizes the list for you in this way.<br/>\n",
    "\n",
    "\n",
    "**Sample Output**<br/>\n",
    "[10, 100, 11, 80, 12, 70, 20, 56, 22, 30, 58, 16, 70, 15]"
   ]
  },
  {
   "cell_type": "code",
   "execution_count": 14,
   "metadata": {
    "id": "nPdUAKDJHElw"
   },
   "outputs": [
    {
     "name": "stdout",
     "output_type": "stream",
     "text": [
      "10,30,20,70,11,15,22,16,58,100,12,56,70,80\n",
      "[10, 100, 11, 80, 12, 70, 20, 56, 22, 30, 58, 16, 70, 15]\n"
     ]
    }
   ],
   "source": [
    "#todo\n",
    "\n",
    "\n",
    "sitting_list=list(map(int,input().split(\",\")))\n",
    "l1=[]\n",
    "l2=[]\n",
    "for i in range(0,len(sitting_list)):\n",
    "    if(i%2==0):\n",
    "        l1.append(sitting_list[i])\n",
    "    else:\n",
    "        l2.append(sitting_list[i])\n",
    "\n",
    "for i in range(0,len(l1)):\n",
    "    for j in range(0,len(l1)-i-1):\n",
    "        if(l1[j]>l1[j+1]):\n",
    "            l1[j],l1[j+1]=l1[j+1],l1[j]\n",
    "\n",
    "for i in range(0,len(l2)):\n",
    "    for j in range(0,len(l2)-i-1):\n",
    "        if(l2[j]<l2[j+1]):\n",
    "            l2[j],l2[j+1]=l2[j+1],l2[j]\n",
    "\n",
    "sitting_list=[]\n",
    "for i in range(0,(len(l1)+len(l2))):\n",
    "    if(i%2==0):\n",
    "        t=l1.pop(0)\n",
    "        sitting_list.append(t)\n",
    "    else:\n",
    "        t=l2.pop(0)\n",
    "        sitting_list.append(t)\n",
    "\n",
    "print(sitting_list)\n",
    "\n"
   ]
  },
  {
   "cell_type": "markdown",
   "metadata": {
    "id": "oVR1Tsa0HElz"
   },
   "source": [
    "### Task 5\n",
    "\n",
    "Suppose a list contains marks earned in the courses CSE110, PHY111, and MAT110 of each student consecutively in a nested list form. Your task is to take a course name as input from the user and sort the list based on the marks obtained in that course in order to finally print the names of the students in descending order of marks obtained i.e. from the student who earned the highest marks to the student who earned the lowest. <br/>\n",
    "\n",
    "For example, the list may look like <br/>\n",
    "lst = [ [\"Alan\", 95, 87, 91], [\"Turing\", 92, 90, 83], [\"Elon\", 87, 92, 80], [\"Musk\", 85, 94, 90] ] <br/>\n",
    "where for each nested list, 1st index holds the name of the student, 2nd index is total marks earned in the CSE110 course, 3rd index is PHY111 marks and 4th index is MAT110 marks. \n",
    "\n",
    "=====================================================\n",
    "\n",
    "**Hint:**<br/>\n",
    "You may create a function for sorting, then call it every time when needed instead of rewriting the code.\n",
    "\n",
    "You may get the data in the individual lists from the given nested list.\n",
    "\n",
    "=====================================================\n",
    "\n",
    "**Sample Input 1**<br/>\n",
    "MAT110\n",
    "\n",
    "**Sample Output 1**<br/>\n",
    "Alan <br/>\n",
    "Musk <br/>\n",
    "Turing <br/>\n",
    "Elon\n",
    "\n",
    "**Explanation:**<br/>\n",
    "Here the user gives us \"MAT110\" as the course name. Now, the students Alan, Turing, Elon and Musk earned 91, 83, 80 and 90 marks respectively in this course. If we sort it, Alan got the highest marks of 91 followed by Musk with 90 marks and Turing with 83 marks. Among these 4 students, Elon obtained the lowest marks in the MAT110 course with 80 marks. All of these has been illustrated in our sample output.\n",
    "\n",
    "=====================================================\n",
    "\n",
    "**Sample Input 2**<br/>\n",
    "PHY111\n",
    "\n",
    "**Sample Output 2**<br/>\n",
    "Musk <br/>\n",
    "Elon <br/>\n",
    "Turing <br/>\n",
    "Alan"
   ]
  },
  {
   "cell_type": "code",
   "execution_count": 2,
   "metadata": {
    "id": "539b2P1NHElz"
   },
   "outputs": [
    {
     "name": "stdout",
     "output_type": "stream",
     "text": [
      "MAT110\n",
      "Alan\n",
      "Musk\n",
      "Turing\n",
      "Elon\n"
     ]
    }
   ],
   "source": [
    "#todo\n",
    "\n",
    "def output(lstt, string1):\n",
    "    if string1 == \"CSE110\":\n",
    "        lstt.sort(key=lambda i: i[1], reverse=True)\n",
    "    elif string1 == \"PHY110\":\n",
    "        lstt.sort(key=lambda i: i[2], reverse=True)\n",
    "    elif string1 == \"MAT110\":\n",
    "        lstt.sort(key=lambda i: i[3], reverse=True)\n",
    "    return lstt\n",
    "\n",
    "\n",
    "lst = [[\"Alan\", 95, 87, 91], [\"Turing\", 92, 90, 83], [\"Elon\", 87, 92, 80], [\"Musk\", 85, 94, 90]]\n",
    "name = input()\n",
    "sorted_list = output(lst, name)\n",
    "for i in sorted_list:\n",
    "    print(i[0])"
   ]
  },
  {
   "cell_type": "markdown",
   "metadata": {
    "id": "B0Rqbyi4HEl2"
   },
   "source": [
    "### Task 6\n",
    "\n",
    "Suppose you have a list named my_list as given below. Your task is to sort the list in ascending order and print the count of numbers that have changed their positions in the process of sorting. <br/>\n",
    "\n",
    "my_list = [4, 2, 3, 1, 6, 5] <br/>\n",
    "\n",
    "Sorted list would be [1, 2, 3, 4, 5, 6] where 4 numbers (4, 1, 6 and 5) have changed their positions. Therefore our sample output here would be 4. Please check if your code is working correctly by changing the above list and using the knowledge given here to verify whether your code gives correct output for all different lists.\n",
    "\n",
    "\n",
    "**Sample Output for the above list**<br/>\n",
    "4"
   ]
  },
  {
   "cell_type": "code",
   "execution_count": 3,
   "metadata": {
    "id": "AMc8jAa7HEl2"
   },
   "outputs": [
    {
     "name": "stdout",
     "output_type": "stream",
     "text": [
      "4\n"
     ]
    }
   ],
   "source": [
    "#todo\n",
    "\n",
    "def addPositionChanged(my_list):\n",
    "    add = 0\n",
    "    myList = sorted(my_list)\n",
    "    for x in range(0, len(my_list)):\n",
    "        if my_list[x] == myList[x]:\n",
    "            continue\n",
    "        else:\n",
    "            add +=1\n",
    "    return add\n",
    "\n",
    "my_list = [4, 2, 3, 1, 6, 5]\n",
    "print(addPositionChanged(my_list))"
   ]
  },
  {
   "cell_type": "markdown",
   "metadata": {
    "id": "iIH5n0sJHEl5"
   },
   "source": [
    "### Task 7\n",
    "\n",
    "Write a python program that takes two lists from the user, merges the two lists, sorts the resulting list, and then finds the median of the elements in the two lists.\n",
    "\n",
    "=====================================================\n",
    "\n",
    "\n",
    "**Sample Input 1**<br/>\n",
    "list_one = [1, 2, 1, 4] <br/>\n",
    "list_two = [5, 4, 1]\n",
    "\n",
    "\n",
    "**Sample Output 1**<br/>\n",
    "Sorted list = [1, 1, 1, 2, 4, 4, 5] <br/>\n",
    "Median = 2\n",
    "\n",
    "=====================================================\n",
    "\n",
    "\n",
    "**Sample Input 2**<br/>\n",
    "list_one = [1, 7, 9, 10] <br/>\n",
    "list_two = [2, 7, 6, 5]\n",
    "\n",
    "\n",
    "**Sample Output 2**<br/>\n",
    "Sorted list = [1, 2, 5, 6, 7, 7, 9, 10] <br/>\n",
    "Median = 6.5\n",
    "\n"
   ]
  },
  {
   "cell_type": "code",
   "execution_count": 3,
   "metadata": {
    "id": "KsFxC7XbHEl6"
   },
   "outputs": [
    {
     "name": "stdout",
     "output_type": "stream",
     "text": [
      "1 2 1 4\n",
      "5 4 1\n",
      "Sorted list [1, 1, 1, 2, 4, 4, 5]\n",
      "Median: 2\n"
     ]
    }
   ],
   "source": [
    "#todo\n",
    "\n",
    "list_one = list(map(int, input().split()))\n",
    "list_two = list(map(int, input().split()))\n",
    "result = list_one + list_two\n",
    "for x in range(len(result)):\n",
    "    for y in range(x, len(result)):\n",
    "        if result[x] > result[y]:\n",
    "            result[x], result[y] = result[y], result[x]\n",
    "\n",
    "print(\"Sorted list\", result)\n",
    "if len(result) % 2 == 0:\n",
    "    median = (result[int(len(result)/2)] + result[int(len(result)/2 - 1)]) / 2\n",
    "    print(\"Median:\", median)\n",
    "else:\n",
    "    median = result[int(len(result) / 2)]\n",
    "    print(\"Median:\", median)\n",
    "\n"
   ]
  },
  {
   "cell_type": "markdown",
   "metadata": {
    "id": "-XKiwBR1HEl8"
   },
   "source": [
    "### Task 8\n",
    "\n",
    "\n",
    "Write a python program that takes a list from user containing both positive and negative numbers. The program then finds two pairs of values whose summation is closest to zero.\n",
    "\n",
    "=====================================================\n",
    "\n",
    "**Sample Input 1**<br/>\n",
    "list_one = [-10, 15, 2, 4, -4, 7, -8] \n",
    "\n",
    "\n",
    "**Sample Output 1**<br/>\n",
    "Two pairs which have the smallest sum = 4 and -4\n",
    "\n",
    "=====================================================\n",
    "\n",
    "\n",
    "**Sample Input 2**<br/>\n",
    "list_one = [1, -8, 4, -7, -20, 26, 70, -85]\n",
    "\n",
    "\n",
    "**Sample Output 2**<br/>\n",
    "Two pairs which have the smallest sum = 4 and -7"
   ]
  },
  {
   "cell_type": "code",
   "execution_count": 9,
   "metadata": {
    "id": "5ORSGa5GHEl9"
   },
   "outputs": [
    {
     "name": "stdout",
     "output_type": "stream",
     "text": [
      "Enter the size of list : 7\n",
      "Please enter the numbers in the list :\n",
      "-10\n",
      "15\n",
      "2\n",
      "4\n",
      "-4\n",
      "7\n",
      "-8\n",
      "list_one =  [-10, 15, 2, 4, -4, 7, -8]\n",
      "Two pairs which have the smallest sum = 4 and  -4\n"
     ]
    }
   ],
   "source": [
    "#todo\n",
    "\n",
    "def Min_SumPair(list_one,list_one_size): \n",
    "    inv_count = 0  \n",
    "    if list_one_size < 2:  \n",
    "        print(\"Invalid Input\") \n",
    "        return  \n",
    "    min_l = 0  \n",
    "    min_r = 1  \n",
    "    min_sum = list_one[0] + list_one[1]  \n",
    "    for l in range (0, list_one_size - 1):  \n",
    "        for r in range (l + 1, list_one_size):  \n",
    "            sum = list_one[l] + list_one[r]         \n",
    "            if abs(min_sum) > abs(sum):      \n",
    "                min_sum = sum \n",
    "                min_l = l \n",
    "                min_r = r  \n",
    "    print(\"Two pairs which have the smallest sum =\",\n",
    "            list_one[min_l], \"and \", list_one[min_r])  \n",
    "list_one = []  \n",
    "n = int(input(\"Enter the size of list : \"))  \n",
    "print(\"Please enter the numbers in the list :\")\n",
    "for i in range(0, n): \n",
    "    ele = int(input())  \n",
    "    list_one.append(ele) \n",
    "print(\"list_one = \", list_one) \n",
    "Min_SumPair(list_one, n)"
   ]
  },
  {
   "cell_type": "code",
   "execution_count": null,
   "metadata": {},
   "outputs": [],
   "source": []
  }
 ],
 "metadata": {
  "colab": {
   "collapsed_sections": [],
   "name": "CSE110 Lab Assignment 7 (Sorting and Searching).ipynb",
   "provenance": []
  },
  "kernelspec": {
   "display_name": "Python 3",
   "language": "python",
   "name": "python3"
  },
  "language_info": {
   "codemirror_mode": {
    "name": "ipython",
    "version": 3
   },
   "file_extension": ".py",
   "mimetype": "text/x-python",
   "name": "python",
   "nbconvert_exporter": "python",
   "pygments_lexer": "ipython3",
   "version": "3.8.8"
  }
 },
 "nbformat": 4,
 "nbformat_minor": 1
}
