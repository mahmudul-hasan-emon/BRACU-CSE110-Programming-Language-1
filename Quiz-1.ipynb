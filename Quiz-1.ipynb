{
 "cells": [
  {
   "cell_type": "code",
   "execution_count": null,
   "id": "d9bd4aef",
   "metadata": {},
   "outputs": [],
   "source": [
    "\n",
    "sum =0\n",
    "number =int(input(\"Please enter a number: \"))\n",
    "for i in range(3,number+1):\n",
    "    if(i%2!=0):\n",
    "        sum =sum+i*(-1)\n",
    "    else:\n",
    "        sum =sum+i\n",
    "print(sum)"
   ]
  },
  {
   "cell_type": "code",
   "execution_count": null,
   "id": "347633d1",
   "metadata": {},
   "outputs": [],
   "source": []
  }
 ],
 "metadata": {
  "kernelspec": {
   "display_name": "Python 3",
   "language": "python",
   "name": "python3"
  },
  "language_info": {
   "codemirror_mode": {
    "name": "ipython",
    "version": 3
   },
   "file_extension": ".py",
   "mimetype": "text/x-python",
   "name": "python",
   "nbconvert_exporter": "python",
   "pygments_lexer": "ipython3",
   "version": "3.8.8"
  }
 },
 "nbformat": 4,
 "nbformat_minor": 5
}
